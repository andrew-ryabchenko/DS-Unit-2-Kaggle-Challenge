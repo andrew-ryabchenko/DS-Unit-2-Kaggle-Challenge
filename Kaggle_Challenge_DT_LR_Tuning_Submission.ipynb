{
  "nbformat": 4,
  "nbformat_minor": 0,
  "metadata": {
    "colab": {
      "name": "Kaggle Challenge DT - LR Tuning / Submission.ipynb",
      "provenance": [],
      "collapsed_sections": [],
      "toc_visible": true,
      "authorship_tag": "ABX9TyOEZDktVfuEx7I/3KEkPvj+",
      "include_colab_link": true
    },
    "kernelspec": {
      "name": "python3",
      "display_name": "Python 3"
    }
  },
  "cells": [
    {
      "cell_type": "markdown",
      "metadata": {
        "id": "view-in-github",
        "colab_type": "text"
      },
      "source": [
        "<a href=\"https://colab.research.google.com/github/andrew-ryabchenko/DS-Unit-2-Kaggle-Challenge/blob/master/Kaggle_Challenge_DT_LR_Tuning_Submission.ipynb\" target=\"_parent\"><img src=\"https://colab.research.google.com/assets/colab-badge.svg\" alt=\"Open In Colab\"/></a>"
      ]
    },
    {
      "cell_type": "code",
      "metadata": {
        "id": "c6SYjSAYcW_m",
        "outputId": "b86220dc-b0e4-4a81-af14-40768900a919",
        "colab": {
          "base_uri": "https://localhost:8080/"
        }
      },
      "source": [
        "!pip install category_encoders;"
      ],
      "execution_count": null,
      "outputs": [
        {
          "output_type": "stream",
          "text": [
            "Requirement already satisfied: category_encoders in /usr/local/lib/python3.6/dist-packages (2.2.2)\n",
            "Requirement already satisfied: numpy>=1.14.0 in /usr/local/lib/python3.6/dist-packages (from category_encoders) (1.18.5)\n",
            "Requirement already satisfied: scipy>=1.0.0 in /usr/local/lib/python3.6/dist-packages (from category_encoders) (1.4.1)\n",
            "Requirement already satisfied: statsmodels>=0.9.0 in /usr/local/lib/python3.6/dist-packages (from category_encoders) (0.10.2)\n",
            "Requirement already satisfied: patsy>=0.5.1 in /usr/local/lib/python3.6/dist-packages (from category_encoders) (0.5.1)\n",
            "Requirement already satisfied: pandas>=0.21.1 in /usr/local/lib/python3.6/dist-packages (from category_encoders) (1.1.3)\n",
            "Requirement already satisfied: scikit-learn>=0.20.0 in /usr/local/lib/python3.6/dist-packages (from category_encoders) (0.22.2.post1)\n",
            "Requirement already satisfied: six in /usr/local/lib/python3.6/dist-packages (from patsy>=0.5.1->category_encoders) (1.15.0)\n",
            "Requirement already satisfied: pytz>=2017.2 in /usr/local/lib/python3.6/dist-packages (from pandas>=0.21.1->category_encoders) (2018.9)\n",
            "Requirement already satisfied: python-dateutil>=2.7.3 in /usr/local/lib/python3.6/dist-packages (from pandas>=0.21.1->category_encoders) (2.8.1)\n",
            "Requirement already satisfied: joblib>=0.11 in /usr/local/lib/python3.6/dist-packages (from scikit-learn>=0.20.0->category_encoders) (0.17.0)\n"
          ],
          "name": "stdout"
        }
      ]
    },
    {
      "cell_type": "code",
      "metadata": {
        "id": "YQo6zpeTjHIx"
      },
      "source": [
        "import pandas as pd\n",
        "import numpy as np\n",
        "import seaborn as sns\n",
        "import matplotlib.pyplot as plt\n",
        "from sklearn.impute import SimpleImputer\n",
        "from sklearn.pipeline import make_pipeline\n",
        "from sklearn.preprocessing import StandardScaler\n",
        "from sklearn.model_selection import KFold\n",
        "from sklearn.metrics import mean_absolute_error, r2_score\n",
        "from category_encoders import OneHotEncoder\n",
        "from sklearn.linear_model import LogisticRegression\n",
        "from statistics import mean\n",
        "from sklearn.tree import DecisionTreeClassifier\n",
        "from sklearn.preprocessing import OrdinalEncoder\n",
        "from sklearn.model_selection import train_test_split"
      ],
      "execution_count": null,
      "outputs": []
    },
    {
      "cell_type": "code",
      "metadata": {
        "id": "n5fhd3Io5taG"
      },
      "source": [
        "train_labels = pd.read_csv('https://raw.githubusercontent.com/andrew-ryabchenko/DS-Unit-2-Kaggle-Challenge/master/train_labels.csv')\n",
        "train_features = pd.read_csv('https://raw.githubusercontent.com/andrew-ryabchenko/DS-Unit-2-Kaggle-Challenge/master/train_features.csv')\n",
        "test_features = pd.read_csv('https://raw.githubusercontent.com/andrew-ryabchenko/DS-Unit-2-Kaggle-Challenge/master/test_features.csv')"
      ],
      "execution_count": null,
      "outputs": []
    },
    {
      "cell_type": "code",
      "metadata": {
        "id": "QPBXPOfA5ig4"
      },
      "source": [
        "# dropping useless features\n",
        "\n",
        "train_features_c = train_features.drop(columns=['wpt_name','num_private',\n",
        "                                                'basin', 'region_code', 'district_code', 'lga', 'ward',\n",
        "                                                'payment_type', 'quantity_group','source_type','waterpoint_type_group'])\n",
        "\n",
        "test_features = test_features.drop(columns=['wpt_name','num_private',\n",
        "                                                'basin', 'region_code', 'district_code', 'lga', 'ward',\n",
        "                                                'payment_type', 'quantity_group','source_type','waterpoint_type_group'])"
      ],
      "execution_count": null,
      "outputs": []
    },
    {
      "cell_type": "code",
      "metadata": {
        "id": "gnClBlbL-7nv",
        "outputId": "60def5d3-6b49-485a-ae9e-b40621e912b7",
        "colab": {
          "base_uri": "https://localhost:8080/",
          "height": 283
        }
      },
      "source": [
        "plt.scatter(train_features_c['latitude'], train_features_c['longitude'])"
      ],
      "execution_count": null,
      "outputs": [
        {
          "output_type": "execute_result",
          "data": {
            "text/plain": [
              "<matplotlib.collections.PathCollection at 0x7efe1e314940>"
            ]
          },
          "metadata": {
            "tags": []
          },
          "execution_count": 107
        },
        {
          "output_type": "display_data",
          "data": {
            "image/png": "[encoded data removed]",
            "text/plain": [
              "<Figure size 432x288 with 1 Axes>"
            ]
          },
          "metadata": {
            "tags": [],
            "needs_background": "light"
          }
        }
      ]
    },
    {
      "cell_type": "code",
      "metadata": {
        "id": "IN1E17atCO1M"
      },
      "source": [
        "to_drop_in_target = train_features_c[~ (train_features_c['longitude'] == 0)].index\n",
        "train_labels = train_labels.iloc[to_drop_in_target]"
      ],
      "execution_count": null,
      "outputs": []
    },
    {
      "cell_type": "code",
      "metadata": {
        "id": "8bUfpvkM_RIz"
      },
      "source": [
        "train_features_c = train_features_c[~ (train_features_c['longitude'] == 0)]"
      ],
      "execution_count": null,
      "outputs": []
    },
    {
      "cell_type": "code",
      "metadata": {
        "id": "GFVLkRrKjc7D"
      },
      "source": [
        "# drop high-cardinality features (nunique() > 20)\n",
        "\n",
        "dtypes = pd.concat([train_features_c.nunique(), train_features_c.dtypes], axis=1)\n",
        "cols_to_drop = dtypes[(dtypes[1] == 'object') & (dtypes[0] > 25)].index\n",
        "train_features_c = train_features_c.drop(columns = [col for col in cols_to_drop])\n",
        "\n",
        "dtypes = pd.concat([test_features.nunique(), test_features.dtypes], axis=1)\n",
        "cols_to_drop = dtypes[(dtypes[1] == 'object') & (dtypes[0] > 25)].index\n",
        "test_features = test_features.drop(columns = [col for col in cols_to_drop])"
      ],
      "execution_count": null,
      "outputs": []
    },
    {
      "cell_type": "code",
      "metadata": {
        "id": "428jHpTPAieX",
        "outputId": "bcc656e5-962e-45e2-fe6c-83a9b04c61c3",
        "colab": {
          "base_uri": "https://localhost:8080/",
          "height": 300
        }
      },
      "source": [
        "train_features_c.describe()"
      ],
      "execution_count": null,
      "outputs": [
        {
          "output_type": "execute_result",
          "data": {
            "text/html": [
              "<div>\n",
              "<style scoped>\n",
              "    .dataframe tbody tr th:only-of-type {\n",
              "        vertical-align: middle;\n",
              "    }\n",
              "\n",
              "    .dataframe tbody tr th {\n",
              "        vertical-align: top;\n",
              "    }\n",
              "\n",
              "    .dataframe thead th {\n",
              "        text-align: right;\n",
              "    }\n",
              "</style>\n",
              "<table border=\"1\" class=\"dataframe\">\n",
              "  <thead>\n",
              "    <tr style=\"text-align: right;\">\n",
              "      <th></th>\n",
              "      <th>id</th>\n",
              "      <th>amount_tsh</th>\n",
              "      <th>gps_height</th>\n",
              "      <th>longitude</th>\n",
              "      <th>latitude</th>\n",
              "      <th>population</th>\n",
              "      <th>construction_year</th>\n",
              "    </tr>\n",
              "  </thead>\n",
              "  <tbody>\n",
              "    <tr>\n",
              "      <th>count</th>\n",
              "      <td>57588.00000</td>\n",
              "      <td>57588.000000</td>\n",
              "      <td>57588.000000</td>\n",
              "      <td>57588.000000</td>\n",
              "      <td>57588.000000</td>\n",
              "      <td>57588.000000</td>\n",
              "      <td>57588.000000</td>\n",
              "    </tr>\n",
              "    <tr>\n",
              "      <th>mean</th>\n",
              "      <td>37106.48807</td>\n",
              "      <td>327.645219</td>\n",
              "      <td>689.325137</td>\n",
              "      <td>35.149669</td>\n",
              "      <td>-5.885572</td>\n",
              "      <td>185.570831</td>\n",
              "      <td>1341.577360</td>\n",
              "    </tr>\n",
              "    <tr>\n",
              "      <th>std</th>\n",
              "      <td>21454.51421</td>\n",
              "      <td>3043.831403</td>\n",
              "      <td>693.564188</td>\n",
              "      <td>2.607428</td>\n",
              "      <td>2.809876</td>\n",
              "      <td>477.744239</td>\n",
              "      <td>937.641368</td>\n",
              "    </tr>\n",
              "    <tr>\n",
              "      <th>min</th>\n",
              "      <td>0.00000</td>\n",
              "      <td>0.000000</td>\n",
              "      <td>-90.000000</td>\n",
              "      <td>29.607122</td>\n",
              "      <td>-11.649440</td>\n",
              "      <td>0.000000</td>\n",
              "      <td>0.000000</td>\n",
              "    </tr>\n",
              "    <tr>\n",
              "      <th>25%</th>\n",
              "      <td>18522.75000</td>\n",
              "      <td>0.000000</td>\n",
              "      <td>0.000000</td>\n",
              "      <td>33.285100</td>\n",
              "      <td>-8.643841</td>\n",
              "      <td>0.000000</td>\n",
              "      <td>0.000000</td>\n",
              "    </tr>\n",
              "    <tr>\n",
              "      <th>50%</th>\n",
              "      <td>37054.50000</td>\n",
              "      <td>0.000000</td>\n",
              "      <td>426.000000</td>\n",
              "      <td>35.005943</td>\n",
              "      <td>-5.172704</td>\n",
              "      <td>35.000000</td>\n",
              "      <td>1988.000000</td>\n",
              "    </tr>\n",
              "    <tr>\n",
              "      <th>75%</th>\n",
              "      <td>55667.25000</td>\n",
              "      <td>30.000000</td>\n",
              "      <td>1332.000000</td>\n",
              "      <td>37.233712</td>\n",
              "      <td>-3.372824</td>\n",
              "      <td>230.000000</td>\n",
              "      <td>2004.000000</td>\n",
              "    </tr>\n",
              "    <tr>\n",
              "      <th>max</th>\n",
              "      <td>74247.00000</td>\n",
              "      <td>350000.000000</td>\n",
              "      <td>2770.000000</td>\n",
              "      <td>40.345193</td>\n",
              "      <td>-0.998464</td>\n",
              "      <td>30500.000000</td>\n",
              "      <td>2013.000000</td>\n",
              "    </tr>\n",
              "  </tbody>\n",
              "</table>\n",
              "</div>"
            ],
            "text/plain": [
              "                id     amount_tsh  ...    population  construction_year\n",
              "count  57588.00000   57588.000000  ...  57588.000000       57588.000000\n",
              "mean   37106.48807     327.645219  ...    185.570831        1341.577360\n",
              "std    21454.51421    3043.831403  ...    477.744239         937.641368\n",
              "min        0.00000       0.000000  ...      0.000000           0.000000\n",
              "25%    18522.75000       0.000000  ...      0.000000           0.000000\n",
              "50%    37054.50000       0.000000  ...     35.000000        1988.000000\n",
              "75%    55667.25000      30.000000  ...    230.000000        2004.000000\n",
              "max    74247.00000  350000.000000  ...  30500.000000        2013.000000\n",
              "\n",
              "[8 rows x 7 columns]"
            ]
          },
          "metadata": {
            "tags": []
          },
          "execution_count": 111
        }
      ]
    },
    {
      "cell_type": "code",
      "metadata": {
        "id": "TLOL_Nq6z28U"
      },
      "source": [
        "# impute missing values for predictor variables\n",
        "\n",
        "imp = SimpleImputer(strategy = 'most_frequent')\n",
        "train_features_c[['public_meeting','scheme_management','permit']] = imp.fit_transform(train_features_c[['public_meeting','scheme_management','permit']])\n",
        "\n",
        "imp = SimpleImputer(strategy = 'most_frequent')\n",
        "test_features[['public_meeting','scheme_management','permit']] = imp.fit_transform(test_features[['public_meeting','scheme_management','permit']])\n",
        "\n"
      ],
      "execution_count": null,
      "outputs": []
    },
    {
      "cell_type": "code",
      "metadata": {
        "id": "xCnxJz6YIlxj"
      },
      "source": [
        "year_of_const = train_features_c[train_features_c['construction_year']>0]['construction_year']\n",
        "population = train_features_c[train_features_c['population']>5]['population']\n",
        "\n",
        "year_of_const_test = test_features[test_features['construction_year']>0]['construction_year']"
      ],
      "execution_count": null,
      "outputs": []
    },
    {
      "cell_type": "code",
      "metadata": {
        "id": "uTy3VEAM5ASJ"
      },
      "source": [
        "# impute 'construction_year' with the random values between 1990 and 2010\n",
        "\n",
        "train_features_c['construction_year'] = train_features_c['construction_year'].apply(lambda x: np.random.randint(1990, high=2010) if x == 0 else x)\n",
        "\n",
        "test_features['construction_year'] = test_features['construction_year'].apply(lambda x: np.random.randint(1990, high=2014) if x == 0 else x)"
      ],
      "execution_count": null,
      "outputs": []
    },
    {
      "cell_type": "code",
      "metadata": {
        "id": "W-3iElQrRd1n"
      },
      "source": [
        "# impute 'population' with the mean value\n",
        "\n",
        "#train_features_c['population'] = train_features_c['population'].apply(lambda x: int(population.mean()) if x<5 else x)"
      ],
      "execution_count": null,
      "outputs": []
    },
    {
      "cell_type": "code",
      "metadata": {
        "id": "joNJagPfOg-x"
      },
      "source": [
        "# Missing population values\n",
        "\n",
        "#zero_pop_wards = pd.merge(left = train_features_c[train_features_c['population'] < 3][['id','population']],\n",
        "                          #right = train_features[['id','ward']], on = 'id', how = 'left')"
      ],
      "execution_count": null,
      "outputs": []
    },
    {
      "cell_type": "code",
      "metadata": {
        "id": "-5OS-GOqSN9I"
      },
      "source": [
        "# Create feature matrix and target vector\n",
        "\n",
        "X = train_features_c.drop(columns=['id'])\n",
        "y = train_labels['status_group']"
      ],
      "execution_count": null,
      "outputs": []
    },
    {
      "cell_type": "code",
      "metadata": {
        "id": "feEVbUbnC-Bv",
        "outputId": "5db3b996-666e-4ca4-f84f-aba1be8c185d",
        "colab": {
          "base_uri": "https://localhost:8080/"
        }
      },
      "source": [
        "y.shape"
      ],
      "execution_count": null,
      "outputs": [
        {
          "output_type": "execute_result",
          "data": {
            "text/plain": [
              "(57588,)"
            ]
          },
          "metadata": {
            "tags": []
          },
          "execution_count": 118
        }
      ]
    },
    {
      "cell_type": "code",
      "metadata": {
        "id": "SHgN0sjKSI7y"
      },
      "source": [
        "assert len(train_features_c) == len(train_labels), 'X and y are diffferent lenght'"
      ],
      "execution_count": null,
      "outputs": []
    },
    {
      "cell_type": "code",
      "metadata": {
        "id": "ktvAZ5HOxzoW"
      },
      "source": [
        "# Instantiate a pipeline for Logistic Regression Model\n",
        "\n",
        "#model_lr = make_pipeline(\n",
        "    #OneHotEncoder(use_cat_names=True),\n",
        "    #StandardScaler(),\n",
        "    #LogisticRegression()\n",
        "#)"
      ],
      "execution_count": null,
      "outputs": []
    },
    {
      "cell_type": "code",
      "metadata": {
        "id": "9wbOa29dUM1n"
      },
      "source": [
        "# Instantiate a pipeline for Decision Tree Classifier \n",
        "\n",
        "model_dt = make_pipeline(\n",
        "    OneHotEncoder(use_cat_names=True),\n",
        "    SimpleImputer(),\n",
        "    DecisionTreeClassifier(random_state=42)\n",
        ")"
      ],
      "execution_count": null,
      "outputs": []
    },
    {
      "cell_type": "code",
      "metadata": {
        "id": "mG6JZBJCWwHF"
      },
      "source": [
        "# K-Fold cross validation. Estimate performance of the Logistic Regression model\n",
        "\n",
        "#kfld = KFold(n_splits=10, shuffle=False)\n",
        "#indices = kfld.split(train_features_c, train_labels)\n",
        "\n",
        "#kfld_scores_lr = [] \n",
        "\n",
        "#for i in indices:\n",
        "  #model_lr.fit(X.iloc[i[0]], y.iloc[i[0]])\n",
        "  #kfld_scores_lr.append(model_lr.score(X.iloc[i[1]], y.iloc[i[1]]))"
      ],
      "execution_count": null,
      "outputs": []
    },
    {
      "cell_type": "code",
      "metadata": {
        "id": "7b2nZHwcbJks"
      },
      "source": [
        "#print(f'Log Reg cross validation avg score: {mean(kfld_scores_lr)}')"
      ],
      "execution_count": null,
      "outputs": []
    },
    {
      "cell_type": "code",
      "metadata": {
        "id": "xNv-IY4NmqnY",
        "outputId": "1a582d45-85ba-4e66-e50a-99b3d1a1ea86",
        "colab": {
          "base_uri": "https://localhost:8080/"
        }
      },
      "source": [
        "# identify optimal max_depth for Decision tree\n",
        "\n",
        "X_train, X_test, y_train, y_test = train_test_split(X,y,test_size = 0.33, random_state=42)\n",
        "scores = []\n",
        "for i in range(5,25):\n",
        "  model_dt.set_params(decisiontreeclassifier__max_depth=i)\n",
        "  model_dt.fit(X_train, y_train)\n",
        "  score = model_dt.score(X_test, y_test)\n",
        "  scores.append((score,i))\n"
      ],
      "execution_count": null,
      "outputs": [
        {
          "output_type": "stream",
          "text": [
            "/usr/local/lib/python3.6/dist-packages/category_encoders/utils.py:21: FutureWarning: is_categorical is deprecated and will be removed in a future version.  Use is_categorical_dtype instead\n",
            "  elif pd.api.types.is_categorical(cols):\n",
            "/usr/local/lib/python3.6/dist-packages/category_encoders/utils.py:21: FutureWarning: is_categorical is deprecated and will be removed in a future version.  Use is_categorical_dtype instead\n",
            "  elif pd.api.types.is_categorical(cols):\n",
            "/usr/local/lib/python3.6/dist-packages/category_encoders/utils.py:21: FutureWarning: is_categorical is deprecated and will be removed in a future version.  Use is_categorical_dtype instead\n",
            "  elif pd.api.types.is_categorical(cols):\n",
            "/usr/local/lib/python3.6/dist-packages/category_encoders/utils.py:21: FutureWarning: is_categorical is deprecated and will be removed in a future version.  Use is_categorical_dtype instead\n",
            "  elif pd.api.types.is_categorical(cols):\n",
            "/usr/local/lib/python3.6/dist-packages/category_encoders/utils.py:21: FutureWarning: is_categorical is deprecated and will be removed in a future version.  Use is_categorical_dtype instead\n",
            "  elif pd.api.types.is_categorical(cols):\n",
            "/usr/local/lib/python3.6/dist-packages/category_encoders/utils.py:21: FutureWarning: is_categorical is deprecated and will be removed in a future version.  Use is_categorical_dtype instead\n",
            "  elif pd.api.types.is_categorical(cols):\n",
            "/usr/local/lib/python3.6/dist-packages/category_encoders/utils.py:21: FutureWarning: is_categorical is deprecated and will be removed in a future version.  Use is_categorical_dtype instead\n",
            "  elif pd.api.types.is_categorical(cols):\n",
            "/usr/local/lib/python3.6/dist-packages/category_encoders/utils.py:21: FutureWarning: is_categorical is deprecated and will be removed in a future version.  Use is_categorical_dtype instead\n",
            "  elif pd.api.types.is_categorical(cols):\n",
            "/usr/local/lib/python3.6/dist-packages/category_encoders/utils.py:21: FutureWarning: is_categorical is deprecated and will be removed in a future version.  Use is_categorical_dtype instead\n",
            "  elif pd.api.types.is_categorical(cols):\n",
            "/usr/local/lib/python3.6/dist-packages/category_encoders/utils.py:21: FutureWarning: is_categorical is deprecated and will be removed in a future version.  Use is_categorical_dtype instead\n",
            "  elif pd.api.types.is_categorical(cols):\n",
            "/usr/local/lib/python3.6/dist-packages/category_encoders/utils.py:21: FutureWarning: is_categorical is deprecated and will be removed in a future version.  Use is_categorical_dtype instead\n",
            "  elif pd.api.types.is_categorical(cols):\n",
            "/usr/local/lib/python3.6/dist-packages/category_encoders/utils.py:21: FutureWarning: is_categorical is deprecated and will be removed in a future version.  Use is_categorical_dtype instead\n",
            "  elif pd.api.types.is_categorical(cols):\n",
            "/usr/local/lib/python3.6/dist-packages/category_encoders/utils.py:21: FutureWarning: is_categorical is deprecated and will be removed in a future version.  Use is_categorical_dtype instead\n",
            "  elif pd.api.types.is_categorical(cols):\n",
            "/usr/local/lib/python3.6/dist-packages/category_encoders/utils.py:21: FutureWarning: is_categorical is deprecated and will be removed in a future version.  Use is_categorical_dtype instead\n",
            "  elif pd.api.types.is_categorical(cols):\n",
            "/usr/local/lib/python3.6/dist-packages/category_encoders/utils.py:21: FutureWarning: is_categorical is deprecated and will be removed in a future version.  Use is_categorical_dtype instead\n",
            "  elif pd.api.types.is_categorical(cols):\n",
            "/usr/local/lib/python3.6/dist-packages/category_encoders/utils.py:21: FutureWarning: is_categorical is deprecated and will be removed in a future version.  Use is_categorical_dtype instead\n",
            "  elif pd.api.types.is_categorical(cols):\n",
            "/usr/local/lib/python3.6/dist-packages/category_encoders/utils.py:21: FutureWarning: is_categorical is deprecated and will be removed in a future version.  Use is_categorical_dtype instead\n",
            "  elif pd.api.types.is_categorical(cols):\n",
            "/usr/local/lib/python3.6/dist-packages/category_encoders/utils.py:21: FutureWarning: is_categorical is deprecated and will be removed in a future version.  Use is_categorical_dtype instead\n",
            "  elif pd.api.types.is_categorical(cols):\n",
            "/usr/local/lib/python3.6/dist-packages/category_encoders/utils.py:21: FutureWarning: is_categorical is deprecated and will be removed in a future version.  Use is_categorical_dtype instead\n",
            "  elif pd.api.types.is_categorical(cols):\n",
            "/usr/local/lib/python3.6/dist-packages/category_encoders/utils.py:21: FutureWarning: is_categorical is deprecated and will be removed in a future version.  Use is_categorical_dtype instead\n",
            "  elif pd.api.types.is_categorical(cols):\n"
          ],
          "name": "stderr"
        }
      ]
    },
    {
      "cell_type": "code",
      "metadata": {
        "id": "hzplt-FrrsUP",
        "outputId": "71b968d7-eaa5-4aad-eaa3-b7e1a705d371",
        "colab": {
          "base_uri": "https://localhost:8080/",
          "height": 430
        }
      },
      "source": [
        "fig, ax = plt.subplots()\n",
        "ax.plot([depth[1] for depth in scores], [score[0] for score in scores], c ='r');\n",
        "ax.vlines([depth[1] for depth in scores],min([score[0] for score in scores]),[score[0] for score in scores], colors= 'g')\n",
        "ax.hlines(max([score[0] for score in scores]),min([depth[1] for depth in scores]),max([depth[1] for depth in scores]), colors= 'b', \n",
        "          linestyles='dashed')\n",
        "ax.set_xticks([depth[1] for depth in scores])\n",
        "fig.set_size_inches([10,7])\n",
        "plt.show()"
      ],
      "execution_count": null,
      "outputs": [
        {
          "output_type": "display_data",
          "data": {
            "image/png": "[encoded data removed]",
            "text/plain": [
              "<Figure size 720x504 with 1 Axes>"
            ]
          },
          "metadata": {
            "tags": [],
            "needs_background": "light"
          }
        }
      ]
    },
    {
      "cell_type": "markdown",
      "metadata": {
        "id": "NZ2-5Gkys4V2"
      },
      "source": [
        "## Optimal *max_depth* = 19"
      ]
    },
    {
      "cell_type": "code",
      "metadata": {
        "id": "w-J6LgtIUvMv",
        "outputId": "e7145163-c22f-4cad-fabd-da5fa059c2ee",
        "colab": {
          "base_uri": "https://localhost:8080/"
        }
      },
      "source": [
        "# Check K-Fold cross validation average score using optimal 'max_depth'\n",
        "\n",
        "kfld = KFold(n_splits=10, shuffle=False)\n",
        "indices = kfld.split(X, y)\n",
        "model_dt.set_params(decisiontreeclassifier__max_depth=19)\n",
        "kfld_scores_dt = [] \n",
        "\n",
        "for i in indices:\n",
        "  model_dt.fit(X.iloc[i[0]], y.iloc[i[0]])\n",
        "  kfld_scores_dt.append(model_dt.score(X.iloc[i[1]], y.iloc[i[1]]))\n",
        "\n",
        "mean(kfld_scores_dt)"
      ],
      "execution_count": null,
      "outputs": [
        {
          "output_type": "stream",
          "text": [
            "/usr/local/lib/python3.6/dist-packages/category_encoders/utils.py:21: FutureWarning: is_categorical is deprecated and will be removed in a future version.  Use is_categorical_dtype instead\n",
            "  elif pd.api.types.is_categorical(cols):\n",
            "/usr/local/lib/python3.6/dist-packages/category_encoders/utils.py:21: FutureWarning: is_categorical is deprecated and will be removed in a future version.  Use is_categorical_dtype instead\n",
            "  elif pd.api.types.is_categorical(cols):\n",
            "/usr/local/lib/python3.6/dist-packages/category_encoders/utils.py:21: FutureWarning: is_categorical is deprecated and will be removed in a future version.  Use is_categorical_dtype instead\n",
            "  elif pd.api.types.is_categorical(cols):\n",
            "/usr/local/lib/python3.6/dist-packages/category_encoders/utils.py:21: FutureWarning: is_categorical is deprecated and will be removed in a future version.  Use is_categorical_dtype instead\n",
            "  elif pd.api.types.is_categorical(cols):\n",
            "/usr/local/lib/python3.6/dist-packages/category_encoders/utils.py:21: FutureWarning: is_categorical is deprecated and will be removed in a future version.  Use is_categorical_dtype instead\n",
            "  elif pd.api.types.is_categorical(cols):\n",
            "/usr/local/lib/python3.6/dist-packages/category_encoders/utils.py:21: FutureWarning: is_categorical is deprecated and will be removed in a future version.  Use is_categorical_dtype instead\n",
            "  elif pd.api.types.is_categorical(cols):\n",
            "/usr/local/lib/python3.6/dist-packages/category_encoders/utils.py:21: FutureWarning: is_categorical is deprecated and will be removed in a future version.  Use is_categorical_dtype instead\n",
            "  elif pd.api.types.is_categorical(cols):\n",
            "/usr/local/lib/python3.6/dist-packages/category_encoders/utils.py:21: FutureWarning: is_categorical is deprecated and will be removed in a future version.  Use is_categorical_dtype instead\n",
            "  elif pd.api.types.is_categorical(cols):\n",
            "/usr/local/lib/python3.6/dist-packages/category_encoders/utils.py:21: FutureWarning: is_categorical is deprecated and will be removed in a future version.  Use is_categorical_dtype instead\n",
            "  elif pd.api.types.is_categorical(cols):\n",
            "/usr/local/lib/python3.6/dist-packages/category_encoders/utils.py:21: FutureWarning: is_categorical is deprecated and will be removed in a future version.  Use is_categorical_dtype instead\n",
            "  elif pd.api.types.is_categorical(cols):\n"
          ],
          "name": "stderr"
        },
        {
          "output_type": "execute_result",
          "data": {
            "text/plain": [
              "0.7637702130877981"
            ]
          },
          "metadata": {
            "tags": []
          },
          "execution_count": 131
        }
      ]
    },
    {
      "cell_type": "markdown",
      "metadata": {
        "id": "3zj4k2xTy3Aj"
      },
      "source": [
        "## Decision Tree Model estimated accuracy = 0.77"
      ]
    },
    {
      "cell_type": "code",
      "metadata": {
        "id": "fam1qLMc2cIR"
      },
      "source": [
        "#create submission\n",
        "\n",
        "predictions = model_dt.predict(test_features.drop(columns=['id']))\n",
        "assert len(predictions) == len(test_features), 'Ooops, something went wrong...'"
      ],
      "execution_count": null,
      "outputs": []
    },
    {
      "cell_type": "code",
      "metadata": {
        "id": "GsQ7Ez8E8oBR"
      },
      "source": [
        "DATA_PATH = 'https://raw.githubusercontent.com/LambdaSchool/DS-Unit-2-Kaggle-Challenge/master/data/'\n",
        "sample_submission = pd.read_csv(DATA_PATH+'waterpumps/sample_submission.csv')\n",
        "submission = sample_submission.copy()\n",
        "submission['status_group'] = predictions\n",
        "submission.to_csv('kaggle_waterpump_challenge_submission_2.csv', index=False)"
      ],
      "execution_count": null,
      "outputs": []
    }
  ]
}